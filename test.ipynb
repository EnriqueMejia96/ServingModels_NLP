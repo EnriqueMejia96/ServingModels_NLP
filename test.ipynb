{
 "cells": [
  {
   "cell_type": "markdown",
   "metadata": {},
   "source": [
    "# 1. Prueba para obtener mensajes desde GMAIL"
   ]
  },
  {
   "cell_type": "code",
   "execution_count": 57,
   "metadata": {},
   "outputs": [],
   "source": [
    "# Importar la clase InstalledAppFlow de la biblioteca google_auth_oauthlib\n",
    "from google_auth_oauthlib.flow import InstalledAppFlow\n",
    "# Importar el módulo base64 para codificar y decodificar datos\n",
    "import base64\n",
    "# Para crear clientes de servicio para las APIs de Google\n",
    "from googleapiclient.discovery import build  \n",
    "\n",
    "# Función para manejar la autenticación de Gmail\n",
    "def gmail_authenticate():\n",
    "    # Definir el alcance (scope) para el acceso a Gmail, solo lectura en este caso\n",
    "    SCOPES = ['https://www.googleapis.com/auth/gmail.readonly']\n",
    "\n",
    "    # Configurar el flujo de autenticación con las credenciales de OAuth y el alcance definido\n",
    "    flow = InstalledAppFlow.from_client_secrets_file('credentials.json', SCOPES)\n",
    "    # Iniciar un servidor local para manejar la autenticación y obtener las credenciales\n",
    "    creds = flow.run_local_server(port=0)\n",
    "\n",
    "    # Devolver las credenciales obtenidas después de completar la autenticación\n",
    "    return creds\n",
    "\n",
    "# Función para recuperar los últimos 'n_mails' correos electrónicos\n",
    "def get_last_n_emails(service, n_mails):\n",
    "    # Solicitar la lista de mensajes para el usuario autenticado, limitado por 'n_mails'\n",
    "    results = service.users().messages().list(userId='me', maxResults=n_mails).execute()\n",
    "    # Obtener los mensajes de la respuesta de la API\n",
    "    messages = results.get('messages', [])\n",
    "    total_msg = []  # Lista para almacenar los mensajes procesados\n",
    "\n",
    "    # Iterar sobre cada mensaje en la lista de mensajes\n",
    "    for message in messages:\n",
    "        # Obtener los detalles completos del mensaje usando su ID\n",
    "        msg = service.users().messages().get(userId='me', id=message['id']).execute()\n",
    "\n",
    "        # Extraer el payload y las partes del mensaje\n",
    "        payload = msg.get('payload', {})\n",
    "        parts = payload.get('parts', [])\n",
    "        body = \"\"  # Variable para almacenar el cuerpo del mensaje\n",
    "        # Verificar si hay datos codificados en base64 en el cuerpo del mensaje\n",
    "        if 'data' in payload['body']:\n",
    "            # Decodificar los datos del cuerpo del mensaje\n",
    "            body = base64.urlsafe_b64decode(payload['body']['data']).decode(\"utf-8\")\n",
    "        else:\n",
    "            # Iterar sobre las partes del mensaje para encontrar y decodificar el texto\n",
    "            for part in parts:\n",
    "                if part['mimeType'] == 'text/plain':\n",
    "                    body = base64.urlsafe_b64decode(part['body']['data']).decode(\"utf-8\")\n",
    "                    break\n",
    "        \n",
    "        # Agregar el cuerpo del mensaje decodificado al diccionario del mensaje\n",
    "        msg[\"body\"] = body\n",
    "\n",
    "        # Añadir el mensaje procesado a la lista total_msg\n",
    "        total_msg.append(msg)\n",
    "    # Devolver la lista de mensajes procesados\n",
    "    return total_msg\n",
    "\n",
    "# Función para obtener un valor específico de los encabezados de un correo electrónico\n",
    "def get_value_for_key(email_headers, key):\n",
    "    # Iterar sobre cada encabezado en los encabezados del correo electrónico\n",
    "    for header in email_headers:\n",
    "        # Verificar si el nombre del encabezado coincide con la clave buscada\n",
    "        if header['name'] == key:\n",
    "            # Devolver el valor del encabezado si se encuentra la clave\n",
    "            return header['value']\n",
    "    # Devolver None si no se encuentra la clave\n",
    "    return None\n",
    "\n",
    "\n",
    "def get_mails(n_mails):\n",
    "    # Construir el cliente de servicio de Gmail con las credenciales autenticadas\n",
    "    service = build('gmail', 'v1', credentials=gmail_authenticate())\n",
    "    # Llamar a la función para obtener los últimos 10 correos electrónicos y almacenar la respuesta en 'msg'\n",
    "    msg = get_last_n_emails(service, n_mails=n_mails)\n",
    "\n",
    "    # Devolver los datos del mensaje obtenido\n",
    "    return msg\n"
   ]
  },
  {
   "cell_type": "markdown",
   "metadata": {},
   "source": [
    "## 1.1. Función para obtener mensajes"
   ]
  },
  {
   "cell_type": "code",
   "execution_count": 58,
   "metadata": {},
   "outputs": [
    {
     "name": "stdout",
     "output_type": "stream",
     "text": [
      "Please visit this URL to authorize this application: https://accounts.google.com/o/oauth2/auth?response_type=code&client_id=694915007051-7ln9qfjl9jrakq6dtql35s1slenkhrl7.apps.googleusercontent.com&redirect_uri=http%3A%2F%2Flocalhost%3A62417%2F&scope=https%3A%2F%2Fwww.googleapis.com%2Fauth%2Fgmail.readonly&state=NMlhNvG8LGfo5Mkc5YOPvqOl8ufw6t&access_type=offline\n"
     ]
    }
   ],
   "source": [
    "msg = get_mails(n_mails=3)"
   ]
  },
  {
   "cell_type": "markdown",
   "metadata": {},
   "source": [
    "## 1.2. Respuesta individual de mensaje como diccionario"
   ]
  },
  {
   "cell_type": "code",
   "execution_count": 59,
   "metadata": {},
   "outputs": [
    {
     "data": {
      "text/plain": [
       "{'id': '18d4c17f35cc7cff',\n",
       " 'threadId': '18d4c17f35cc7cff',\n",
       " 'labelIds': ['UNREAD', 'CATEGORY_UPDATES', 'INBOX'],\n",
       " 'snippet': 'con su Seguro vida devolución Hola Jose, Esta es tu última oportunidad ¡para llevarte 1 vale de S/100! Compra hoy el Seguro Vida Devolución y además, podrás empezar a disfrutar de grandes beneficios',\n",
       " 'payload': {'partId': '',\n",
       "  'mimeType': 'multipart/alternative',\n",
       "  'filename': '',\n",
       "  'headers': [{'name': 'Delivered-To',\n",
       "    'value': 'enriquemejiagamarra@gmail.com'},\n",
       "   {'name': 'Received',\n",
       "    'value': 'by 2002:a05:7000:3528:b0:554:41f0:6ea8 with SMTP id t8csp281020mav;        Sat, 27 Jan 2024 10:04:14 -0800 (PST)'},\n",
       "   {'name': 'X-Google-Smtp-Source',\n",
       "    'value': 'AGHT+IEGNyXhxe4mrOR3QchLHKtwIBoj7/jkcEtU10Tj3clPfdUyCyu4RbXYwbht1tMrK6IhPqWA'},\n",
       "   {'name': 'X-Received',\n",
       "    'value': 'by 2002:a05:6358:7f13:b0:174:d596:d1ea with SMTP id p19-20020a0563587f1300b00174d596d1eamr1367685rwn.49.1706378654558;        Sat, 27 Jan 2024 10:04:14 -0800 (PST)'},\n",
       "   {'name': 'ARC-Seal',\n",
       "    'value': 'i=1; a=rsa-sha256; t=1706378654; cv=none;        d=google.com; s=arc-20160816;        b=a+2PPIk69Fam5Trc+qzocgwFDVX21UblPzxFZlCf23RzhBvhzCg675Q7RVeaaCQ7US         vS+VqxSj0wFzs7T+F8bOU6/Jtjr/2D5w1jp8Q82PxudtH+TXyVp6f0a2uJ61Fw06CVob         pf+hu0F4Fb9L5vJWfLpBfpT33qHzwhWVtpNmbqDRZz1Hr2fd5h901xhb1qh1WT3VasYu         DIsjdk49Jz72jx+QqNovtSEWaVEANk7XZljMmp5C2/VUPGQNr/Ci10y6whShjSfGAaBe         7cgpNWv0YSQfmm8sfs0Wu3nr20hYuVlRvbiKFGbWK9SNhRUumrxZupr7J6ODrDnF2xKP         m+ug=='},\n",
       "   {'name': 'ARC-Message-Signature',\n",
       "    'value': 'i=1; a=rsa-sha256; c=relaxed/relaxed; d=google.com; s=arc-20160816;        h=precedence:list-id:list-unsubscribe:mime-version:subject:message-id         :to:from:date:dkim-signature;        bh=6EuCmge8wXuFyPuu7yUwYASS9be7GJ5ib0YppCBbmjo=;        fh=/v7rWGD64eHQ/oQwIEacjTI9MIu1F6vchh78HvvZzXI=;        b=vqZ1mkx0uPf7rjcuVF2QSIdLLhsIyxD1mZr2/RgXVhIK80sdlHtdtkscgN1Mr+A+JC         l2zCN9FBwe03CBm0HiApQOArYU8VgY/BuiUHQs9slECzS6v417xKxTp2y2hS/jU0+mS6         1ef5pEFuSvVTAmmmAhHI9xQnfwMvioKt6utX5rIS+FsbLoDQBEnZ0MZYaazY4m0LxOKR         NqQyFZR9vY6knWjHHL7Vusj5M9YUqyvXlkK/XbfZK+RbROUGdtLjNdlYNlg0/bi9e0ST         ieP9FHZXokxOKzlOPeK7FPHQExDEzIhyNOQ+wbT0kkFBonBrfXeCbq3/RhkHv+S0E1JK         mBTg=='},\n",
       "   {'name': 'ARC-Authentication-Results',\n",
       "    'value': 'i=1; mx.google.com;       dkim=pass header.i=@pacificoseguros.com.pe header.s=DANA header.b=\"egNyq/l4\";       spf=pass (google.com: domain of bounces@dana.pacificoseguros.com.pe designates 190.114.11.159 as permitted sender) smtp.mailfrom=bounces@dana.pacificoseguros.com.pe;       dmarc=pass (p=QUARANTINE sp=QUARANTINE dis=NONE) header.from=pacificoseguros.com.pe'},\n",
       "   {'name': 'Return-Path', 'value': '<bounces@dana.pacificoseguros.com.pe>'},\n",
       "   {'name': 'Received',\n",
       "    'value': 'from mta67.email-platform.com (mta67.email-platform.com. [190.114.11.159])        by mx.google.com with ESMTPS id w7-20020ab02807000000b007d5c33403bfsi33586uap.91.2024.01.27.10.04.14        for <enriquemejiagamarra@gmail.com>        (version=TLS1_3 cipher=TLS_AES_256_GCM_SHA384 bits=256/256);        Sat, 27 Jan 2024 10:04:14 -0800 (PST)'},\n",
       "   {'name': 'Received-SPF',\n",
       "    'value': 'pass (google.com: domain of bounces@dana.pacificoseguros.com.pe designates 190.114.11.159 as permitted sender) client-ip=190.114.11.159;'},\n",
       "   {'name': 'Authentication-Results',\n",
       "    'value': 'mx.google.com;       dkim=pass header.i=@pacificoseguros.com.pe header.s=DANA header.b=\"egNyq/l4\";       spf=pass (google.com: domain of bounces@dana.pacificoseguros.com.pe designates 190.114.11.159 as permitted sender) smtp.mailfrom=bounces@dana.pacificoseguros.com.pe;       dmarc=pass (p=QUARANTINE sp=QUARANTINE dis=NONE) header.from=pacificoseguros.com.pe'},\n",
       "   {'name': 'DKIM-Signature',\n",
       "    'value': 'v=1; a=rsa-sha256; c=relaxed/relaxed; s=DANA; d=pacificoseguros.com.pe; h=Date:From:To:Message-ID:Subject:MIME-Version:Content-Type:List-Unsubscribe: List-Id; i=contacto@pacificoseguros.com.pe; bh=6EuCmge8wXuFyPuu7yUwYASS9be7GJ5ib0YppCBbmjo=; b=egNyq/l4s4CRQyiviq4/yIMfUjda/TOk9UeDo5QoBJUMa7z4x8Ld+IRETomqaJo7SnwtPcjps3ow   7sbrzw+7bFLhlVakLWXI03rqpgsZNndlQUi7/CkzBLHJJCPxh60Cn8Im/mGuf23zFdGmztbeZutK   p6fLZTTkSk3MHsZPDVk='},\n",
       "   {'name': 'Received',\n",
       "    'value': 'by mta67.email-platform.com id hml2ja35ikc5 for <enriquemejiagamarra@gmail.com>; Sat, 27 Jan 2024 13:59:50 -0400 (envelope-from <bounces@dana.pacificoseguros.com.pe>)'},\n",
       "   {'name': 'Date', 'value': 'Sat, 27 Jan 2024 14:01:35 -0400 (VET)'},\n",
       "   {'name': 'From',\n",
       "    'value': '\"Pacífico Seguros\" <contacto@pacificoseguros.com.pe>'},\n",
       "   {'name': 'To', 'value': 'enriquemejiagamarra@gmail.com'},\n",
       "   {'name': 'Message-ID',\n",
       "    'value': '<1180120.2006872153.32168957.1706378495172.DanaMail.7572@pacificoseguros.com.pe>'},\n",
       "   {'name': 'Subject',\n",
       "    'value': '👉 Vale de S/100 GRATIS para quienes quieran hacer crecer tus ahorros'},\n",
       "   {'name': 'MIME-Version', 'value': '1.0'},\n",
       "   {'name': 'Content-Type',\n",
       "    'value': 'multipart/alternative; boundary=\"----=_Part_33713842_712377772.1706378495172\"'},\n",
       "   {'name': 'X-Priority', 'value': '3'},\n",
       "   {'name': 'X-Mailer', 'value': 'DANA Connect Mailer'},\n",
       "   {'name': 'X-Bounce-URL',\n",
       "    'value': 'http://dana.pacificoseguros.com.pe/event/Bounce?z=_0VhzDYMo-4MIsUxh'},\n",
       "   {'name': 'List-Unsubscribe',\n",
       "    'value': '<http://dana.pacificoseguros.com.pe/event/Unsuscribe?z=_0VhzDYMo-4MIsUxh>'},\n",
       "   {'name': 'List-Id', 'value': '<434945.pacificomkt.email-platform.com>'},\n",
       "   {'name': 'X-Return-Path', 'value': 'bounces@dana.pacificoseguros.com.pe'},\n",
       "   {'name': 'Precedence', 'value': 'bulk'}],\n",
       "  'body': {'size': 0},\n",
       "  'parts': [{'partId': '0',\n",
       "    'mimeType': 'text/plain',\n",
       "    'filename': '',\n",
       "    'headers': [{'name': 'Content-Type', 'value': 'text/plain; charset=utf-8'},\n",
       "     {'name': 'Content-Transfer-Encoding', 'value': 'quoted-printable'}],\n",
       "    'body': {'size': 5781,\n",
       "     'data': 'W2NvbiBzdSBTZWd1cm8gdmlkYSBkZXZvbHVjacOzbl0NCjxodHRwOi8vZGFuYS5wYWNpZmljb3NlZ3Vyb3MuY29tLnBlL2V2ZW50L0xpbms_ZGFuYT0zeTEtbHFzOVJCdUhQQlB4a2xyMjk2eiZmPTE-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_ZGFuYT0zeTEtbHFzOVJCdUhQQlB4a2xyMjk2byZmPTE-IA0KIHBvciBQYWPDrWZpY28gU2VndXJvcy4gU2kgaGFzIHJlY2liaWRvIGVzdGUgbWVuc2FqZSBwb3IgZXJyb3IsIHBvciBmYXZvciANCnByb2NlZGUgYSBlbGltaW5hcmxvIHkgbm90aWZpY2Fybm9zIGhhY2llbmRvIGNsaWMgYXF1w60NCjxodHRwOi8vdXAxLm1lL2NvbnZlcnNhdGlvbl9tYW5hZ2VyMy4wL3ZpZXcvcHJpdmFjeS9pbmRleC5waHA_ej1fMFZoekRZTW8tNE1Jc1V4aD4gDQogcGFyYSBwb2RlciBzdXNwZW5kZXIgZWwgZW52w61vIGRlIGluZm9ybWFjacOzbiBFbCBzaXN0ZW1hIGRlIGNvcnJlbyANCmVsZWN0csOzbmljbyBkZSBsYXMgZG9zIGVtcHJlc2FzIHF1ZSBpbnRlZ3JhbiBlbCBHcnVwbyBQYWPDrWZpY28gKFBhY8OtZmljbyANClNlZ3Vyb3MgeSBQYWPDrWZpY28gRVBTKSwgZXN0w6EgZGVzdGluYWRvIMO6bmljYW1lbnRlIHBhcmEgZmluZXMgZGVsIG5lZ29jaW8sIA0KY3VhbHF1aWVyIG90cm8gdXNvIGNvbnRyYXZpZW5lIGxhcyBwb2zDrXRpY2FzIGRlbCBHcnVwby4gVG9kYSBsYSBpbmZvcm1hY2nDs24gDQpkZWwgbyBsb3MgbmVnb2Npb3MgY29udGVuaWRvIGVuIGVzdGUgbWVuc2FqZSBlcyBkZSBuYXR1cmFsZXphIGNvbmZpZGVuY2lhbCANCnkgZGUgdXNvIGV4Y2x1c2l2byBkZWwgR3J1cG8gUGFjw61maWNvLiBTdSBkaXZ1bGdhY2nDs24sIGNvcGlhIHkvbyANCmFkdWx0ZXJhY2nDs24gZXN0w6FuIHByb2hpYmlkYXMgeSBzw7NsbyBkZWJlIHNlciBjb25vY2lkYSBwb3IgbGEgcGVyc29uYSBhIA0KcXVpZW4gc2UgZGlyaWdlIGVzdGUgbWVuc2FqZS4gRW4gbnVlc3RyYXMgY2FtcGHDsWFzIGRlIGNvbXVuaWNhY2nDs24gbWFzaXZhLCANCm51bmNhIGluY2x1aXJlbW9zIGVubGFjZXMgYSBvdHJvcyBkb21pbmlvcyBxdWUgbm8gcGVydGVuZXpjYW4gYWwgR3J1cG8gDQpQYWPDrWZpY28oMSkgbyBudWVzdHJvcyBwb3J0YWxlcyBvZmljaWFsZXMgZW4gbGFzIHJlZGVzIHNvY2lhbGVzICgyKSAsIHkgbm8gDQpzb2xpY2l0YXJlbW9zIGluZm9ybWFjacOzbiBkZSB0dXMgY3VlbnRhcyBiYW5jYXJpYXMuIEN1YWxxdWllciBjYW1wYcOxYSBxdWUgDQpsbGVndWUgYSBub21icmUgbnVlc3RybyB5IHByZXNlbnRlIGFsZ3VuYSBkZSBsYXMgY2FyYWN0ZXLDrXN0aWNhcyANCm1lbmNpb25hZGFzIGRlYmUgc2VyIGVsaW1pbmFkbyBpbm1lZGlhdGFtZW50ZS4gUmVjdWVyZGEsIG51ZXN0cmFzIGNhbXBhw7FhcyANCnNlcsOhbiBwZXJzb25hbGl6YWRhcywgc2llbXByZSBkaXJpZ2lkb3MgYSB0dSBub21icmUuICgxKXBhY2lmaWNvLmNvbS5wZQ0KPGh0dHA6Ly9kYW5hLnBhY2lmaWNvc2VndXJvcy5jb20ucGUvZXZlbnQvTGluaz9kYW5hPTN5MS1scXM5UkJ1SFBCUHhrbHIyOTZwJmY9MT4gDQosIHBhY2lmaWNvc2VndXJvcy5jb20NCjxodHRwOi8vZGFuYS5wYWNpZmljb3NlZ3Vyb3MuY29tLnBlL2V2ZW50L0xpbms_ZGFuYT0zeTEtbHFzOVJCdUhQQlB4a2xyMjk2bSZmPTE-IA0KLCBwYWNpZmljb3NlZ3Vyb3MuY29tLnBlDQo8aHR0cDovL2RhbmEucGFjaWZpY29zZWd1cm9zLmNvbS5wZS9ldmVudC9MaW5rP2RhbmE9M3kxLWxxczlSQnVIUEJQeGtscjI5Nm4mZj0xPiANCiwgZ3J1cG9wYWNpZmljby5jb20ucGUNCjxodHRwOi8vZGFuYS5wYWNpZmljb3NlZ3Vyb3MuY29tLnBlL2V2ZW50L0xpbms_ZGFuYT0zeTEtbHFzOVJCdUhQQlB4a2xyMjk2cyZmPTE-IA0KLCBwYWNpZmljb3ZpZGEuY29tLnBlDQo8aHR0cDovL2RhbmEucGFjaWZpY29zZWd1cm9zLmNvbS5wZS9ldmVudC9MaW5rP2RhbmE9M3kxLWxxczlSQnVIUEJQeGtscjI5Nm8mZj0xPiANCiB5IHBhY2lmaWNvdmlkYS5uZXQNCjxodHRwOi8vZGFuYS5wYWNpZmljb3NlZ3Vyb3MuY29tLnBlL2V2ZW50L0xpbms_ZGFuYT0zeTEtbHFzOVJCdUhQQlB4a2xyMjk2dCZmPTE-IA0KLiAoMilmYWNlYm9vay5jb20vc2VndXJvc3BhY2lmaWNvDQo8aHR0cDovL2RhbmEucGFjaWZpY29zZWd1cm9zLmNvbS5wZS9ldmVudC9MaW5rP2RhbmE9M3kxLWxxczlSQnVIUEJQeGtscjI5NnEmZj0xPiANCiB5IHlvdXR1YmUuY29tL3BhY2lmaWNvc2VndXJvcw0KPGh0dHA6Ly9kYW5hLnBhY2lmaWNvc2VndXJvcy5jb20ucGUvZXZlbnQvTGluaz9kYW5hPTN5MS1scXM5UkJ1SFBCUHhrbHIyOTZyJmY9MT4gDQouDQoNClBhcmEgZ2FyYW50aXphciBsYSBlbnRyZWdhIGRlIG51ZXN0cmFzIGNvbXVuaWNhY2lvbmVzIHRlIHBlZGltb3MgYWdyZWdhciANCmNvbnRhY3RvQHBhY2lmaWNvc2VndXJvcy5jb20ucGUgPG1haWx0bzpjb250YWN0b0BwYWNpZmljb3NlZ3Vyb3MuY29tLnBlPiAgYSANCnR1IGxpYnJldGEgZGUgZGlyZWNjaW9uZXMuDQoNCsKpIDIwMTggUGFjw61maWNvIEdydXBvIEFzZWd1cmFkb3IsIEF2LiBKdWFuIGRlIEFyb25hIDgzMCBTYW4gSXNpZHJvLCBMaW1hIC0gDQpQZXLDui4gVG9kb3MgbG9zIGRlcmVjaG9zIHJlc2VydmFkb3Mu'}},\n",
       "   {'partId': '1',\n",
       "    'mimeType': 'text/html',\n",
       "    'filename': '',\n",
       "    'headers': [{'name': 'Content-Type', 'value': 'text/html; charset=utf-8'},\n",
       "     {'name': 'Content-Transfer-Encoding', 'value': 'quoted-printable'}],\n",
       "    'body': {'size': 16870,\n",
       "     'data': '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'}}]},\n",
       " 'sizeEstimate': 29900,\n",
       " 'historyId': '1062403',\n",
       " 'internalDate': '1706378495000',\n",
       " 'body': '[con su Seguro vida devolución]\\r\\n<http://dana.pacificoseguros.com.pe/event/Link?dana=3y1-lqs9RBuHPBPxklr296z&f=1>\\r\\n\\r\\n\\r\\n\\r\\n\\r\\nHola Jose,\\r\\n\\r\\n\\r\\nEsta es tu última oportunidad\\r\\n¡para llevarte 1 vale de S/100!\\r\\n\\r\\n\\r\\n\\r\\n\\r\\nCompra hoy el Seguro Vida Devolución y además, podrás empezar a disfrutar \\r\\nde grandes beneficios\\r\\n\\r\\n[compralo-aqui]\\r\\n<http://dana.pacificoseguros.com.pe/event/Link?dana=3y1-lqs9RBuHPBPxklr296z&f=1>\\r\\n\\r\\n \\r\\n\\r\\nRecuerda que con el Seguro Vida Devolución:\\r\\n\\r\\n[gráfico ganas]\\r\\n¡GANAS!\\r\\n\\r\\nporque recuperas hasta\\r\\nEL DOBLE de lo pagado.\\r\\n\\r\\n\\r\\n\\r\\n\\r\\n[gráfico proteges]\\r\\nPROTEGES\\r\\n\\r\\na tu familia hasta con\\r\\nS/150,000 si les faltas.\\r\\n\\r\\n\\r\\n\\r\\n\\r\\n[Pacifico seguros]\\r\\n \\r\\n(1) La promoción de vale de S/100 es válida sólo del 01/01/2024 al \\r\\n31/01/2024 o hasta alcanzar el límite de 200 ganadores. Esta promoción es \\r\\nexclusiva para los clientes que (i) completen la compra del Seguro Vida \\r\\nDevolución con código SBS VI2007100217 a través del canal digital de venta \\r\\ne-Commerce del BCP (online o asistido telefónicamente), (ii) se encuentre \\r\\nafiliado al débito automático para el pago de la prima de dicho producto; \\r\\n(iii) se haya procedido con el cobro de la primera prima antes del \\r\\n11/02/2024; y, (iv) se mantenga vigente el seguro durante la campaña. No \\r\\naplica para compras del Seguro de Vida con Devolución Total a través de \\r\\notro canal directo o indirecto (telefónico o agencias). El valor de los \\r\\nvales de consumo dependerá de las condiciones del producto adquirido \\r\\nconforme el siguiente detalle\\r\\n\\r\\n1 tarjeta Digital Sodexo cargada con el valor de S/100.\\r\\nStock mínimo 50 ganadores. El vale de consumo será enviado al correo \\r\\nelectrónico registrado en la compra hasta máximo 15 días después de \\r\\nfinalizada la campaña. Fecha máxima para la entrega del premio: 15/02/2024. \\r\\nTendrá hasta 12 meses luego de recibir el cupón para utilizarlo. La \\r\\ndevolución de primas del Seguro de Vida con Devolución al finalizar el \\r\\nplazo de contratación se realiza neta de impuestos.\\r\\n\\r\\n(2) Pacífico pone a disposición el Programa Salud en Casa a cargo de la \\r\\nempresa Care 24. Para poder usar el programa Salud en Casa deberá haber \\r\\nrealizado el pago de la primera cuota dentro de los 15 días siguientes a la \\r\\ncompra y mantener vigente su póliza. El Seguro de Vida con Devolución Total \\r\\ncon código SBS VI2007100217 es un producto ofrecido por Banco de Crédito \\r\\ncon el respaldo de Pacífico Compañía de Seguros y Reaseguros. Aplican \\r\\ntérminos, condiciones, exclusiones y restricciones que podrás revisar en \\r\\nSeguro Vida Devolución Total | BCP.\\r\\n\\r\\n(3) Pacífico pone a disposición Programa de Chequeo Médico Preventivo a \\r\\ncargo de la empresa ASISTENCIA A365. Para poder usar el Programa Chequeo \\r\\nMédico Preventivo deberá haber realizado el pago de la primera cuota dentro \\r\\nde los 15 días siguientes a la compra y mantener vigente su póliza. El \\r\\nSeguro de Vida con Devolución Total con código SBS VI2007100217 es un \\r\\nproducto ofrecido por Banco de Crédito con el respaldo de Pacífico Compañía \\r\\nde Seguros y Reaseguros. Aplican términos, condiciones, exclusiones y \\r\\nrestricciones que podrás revisar en Seguro Vida Devolución Total | BCP.\\r\\n\\r\\nEste correo fue enviado a enriquemejiagamarra@gmail.com\\r\\n<http://dana.pacificoseguros.com.pe/event/Link?dana=3y1-lqs9RBuHPBPxklr296o&f=1> \\r\\n por Pacífico Seguros. Si has recibido este mensaje por error, por favor \\r\\nprocede a eliminarlo y notificarnos haciendo clic aquí\\r\\n<http://up1.me/conversation_manager3.0/view/privacy/index.php?z=_0VhzDYMo-4MIsUxh> \\r\\n para poder suspender el envío de información El sistema de correo \\r\\nelectrónico de las dos empresas que integran el Grupo Pacífico (Pacífico \\r\\nSeguros y Pacífico EPS), está destinado únicamente para fines del negocio, \\r\\ncualquier otro uso contraviene las políticas del Grupo. Toda la información \\r\\ndel o los negocios contenido en este mensaje es de naturaleza confidencial \\r\\ny de uso exclusivo del Grupo Pacífico. Su divulgación, copia y/o \\r\\nadulteración están prohibidas y sólo debe ser conocida por la persona a \\r\\nquien se dirige este mensaje. En nuestras campañas de comunicación masiva, \\r\\nnunca incluiremos enlaces a otros dominios que no pertenezcan al Grupo \\r\\nPacífico(1) o nuestros portales oficiales en las redes sociales (2) , y no \\r\\nsolicitaremos información de tus cuentas bancarias. Cualquier campaña que \\r\\nllegue a nombre nuestro y presente alguna de las características \\r\\nmencionadas debe ser eliminado inmediatamente. Recuerda, nuestras campañas \\r\\nserán personalizadas, siempre dirigidos a tu nombre. (1)pacifico.com.pe\\r\\n<http://dana.pacificoseguros.com.pe/event/Link?dana=3y1-lqs9RBuHPBPxklr296p&f=1> \\r\\n, pacificoseguros.com\\r\\n<http://dana.pacificoseguros.com.pe/event/Link?dana=3y1-lqs9RBuHPBPxklr296m&f=1> \\r\\n, pacificoseguros.com.pe\\r\\n<http://dana.pacificoseguros.com.pe/event/Link?dana=3y1-lqs9RBuHPBPxklr296n&f=1> \\r\\n, grupopacifico.com.pe\\r\\n<http://dana.pacificoseguros.com.pe/event/Link?dana=3y1-lqs9RBuHPBPxklr296s&f=1> \\r\\n, pacificovida.com.pe\\r\\n<http://dana.pacificoseguros.com.pe/event/Link?dana=3y1-lqs9RBuHPBPxklr296o&f=1> \\r\\n y pacificovida.net\\r\\n<http://dana.pacificoseguros.com.pe/event/Link?dana=3y1-lqs9RBuHPBPxklr296t&f=1> \\r\\n. (2)facebook.com/segurospacifico\\r\\n<http://dana.pacificoseguros.com.pe/event/Link?dana=3y1-lqs9RBuHPBPxklr296q&f=1> \\r\\n y youtube.com/pacificoseguros\\r\\n<http://dana.pacificoseguros.com.pe/event/Link?dana=3y1-lqs9RBuHPBPxklr296r&f=1> \\r\\n.\\r\\n\\r\\nPara garantizar la entrega de nuestras comunicaciones te pedimos agregar \\r\\ncontacto@pacificoseguros.com.pe <mailto:contacto@pacificoseguros.com.pe>  a \\r\\ntu libreta de direcciones.\\r\\n\\r\\n© 2018 Pacífico Grupo Asegurador, Av. Juan de Arona 830 San Isidro, Lima - \\r\\nPerú. Todos los derechos reservados.'}"
      ]
     },
     "execution_count": 59,
     "metadata": {},
     "output_type": "execute_result"
    }
   ],
   "source": [
    "msg[0]"
   ]
  },
  {
   "cell_type": "markdown",
   "metadata": {},
   "source": [
    "## 1.3. Obtener el asunto del correo"
   ]
  },
  {
   "cell_type": "code",
   "execution_count": 60,
   "metadata": {},
   "outputs": [
    {
     "data": {
      "text/plain": [
       "'👉 Vale de S/100 GRATIS para quienes quieran hacer crecer tus ahorros'"
      ]
     },
     "execution_count": 60,
     "metadata": {},
     "output_type": "execute_result"
    }
   ],
   "source": [
    "message_dict = dict(msg[0])\n",
    "email_headers = message_dict['payload']['headers']\n",
    "subject = get_value_for_key(email_headers, 'Subject')\n",
    "subject"
   ]
  },
  {
   "cell_type": "markdown",
   "metadata": {},
   "source": [
    "## 1.4. Obtener el contenido corto correo"
   ]
  },
  {
   "cell_type": "code",
   "execution_count": 61,
   "metadata": {},
   "outputs": [
    {
     "data": {
      "text/plain": [
       "'con su Seguro vida devolución Hola Jose, Esta es tu última oportunidad ¡para llevarte 1 vale de S/100! Compra hoy el Seguro Vida Devolución y además, podrás empezar a disfrutar de grandes beneficios'"
      ]
     },
     "execution_count": 61,
     "metadata": {},
     "output_type": "execute_result"
    }
   ],
   "source": [
    "content = message_dict['snippet']\n",
    "content"
   ]
  },
  {
   "cell_type": "markdown",
   "metadata": {},
   "source": [
    "## 1.5. Loop para hacer print a contenido y asunto de cada correo"
   ]
  },
  {
   "cell_type": "code",
   "execution_count": 41,
   "metadata": {},
   "outputs": [
    {
     "name": "stdout",
     "output_type": "stream",
     "text": [
      "###################\n",
      "Jose ¡Recuerda! El banco nunca te pedirá datos confidenciales\n",
      "Hola Jose, En el BCP nos preocupamos por tu seguridad financiera y queremos que estés prevenido ante los posibles casos de fraude. Por eso, desde el BCP te brindamos estos consejos: No compartas tus\n",
      "###################\n",
      "Esta es una prueba\n",
      "Hola, cómo estas? -- José Enrique Mejia Gamarra MACHINE LEARNING ENGINEER GERENCIA CORPORATIVA DE ESTRATEGIA Y DESARROLLO T. | A. | C. JR. CRISTOBAL DE PERALTA 820 , SANTIAGO DE SURCO - www.ferreycorp.\n",
      "###################\n",
      "IntelliSearch™ Alert found 12 new jobs, based on your profile \n",
      "Start applying today ‌ ‌ ‌ ‌ ‌ ‌ ‌ ‌ ‌ ‌ ‌ ‌ ‌ ‌ ‌ ‌ ‌ ‌ ‌ ‌ ‌ ‌ ‌ ‌ ‌ ‌ ‌ ‌ ‌ ‌ ‌ ‌ ‌ ‌ ‌ ‌ ‌ ‌ ‌ ‌ ‌ ‌ ‌ ‌ ‌ ‌ ‌ ‌ ‌ ‌ ‌ ‌ ‌ ‌ ‌ ‌ ‌ ‌ ‌ ‌ ‌ ‌ ‌ ‌ ‌ ‌ ‌ ‌ ‌ ‌ ‌ ‌ ‌ ‌ ‌ ‌ ‌ ‌ ‌ ‌ ‌ ‌ ‌ ‌ ‌ ‌ ‌ ‌ ‌ ‌\n",
      "###################\n",
      "Alguien ha añadido tu dirección de correo electrónico como su dirección de correo electrónico de recuperación\n",
      "Alguien ha añadido enriquemejiagamarra@gmail.com como su dirección de correo electrónico de recuperación jose.dmc.mle@gmail.com quiere utilizar tu dirección de correo electrónico como su dirección de\n",
      "###################\n",
      "Por tu seguridad, te notificaremos por cada yapeo que realices\n",
      "¡Hola, JOSE ENRIQUE MEJIA G.! Yapeaste S/ 22.00 a JORGE CAM C. ¿Demasiados correos? Configura estas notificaciones Monto de Yapeo S/ 22.00 Tu número de celular XXXXXXXXX683 Fecha y Hora de la operación\n",
      "###################\n",
      "Your Friday evening trip with Uber\n",
      "Total PEN 7.00 26 January 2024 Thanks for being an Uber One member, José We hope you enjoyed your ride this evening. Total PEN 7.00 You earned PEN 0.70 Uber Cash with Uber One Trip fare PEN 8.50\n",
      "###################\n",
      "Realizaste un consumo con tu Tarjeta de Crédito BCP - Servicio de Notificaciones BCP\n",
      "Hola Jose Enrique, Realizaste un consumo de S/ 6.10 con tu Tarjeta de Crédito BCP en PYU*UBER. Por tu seguridad, te enviamos los datos de tu operación. Monto Total del consumo S/ 6.10 Datos de la\n",
      "###################\n",
      "Realizaste un consumo con tu Tarjeta de Crédito BCP - Servicio de Notificaciones BCP\n",
      "Hola Jose Enrique, Realizaste un consumo de S/ 160.80 con tu Tarjeta de Crédito BCP en ANGAMOS RODIZIO. Por tu seguridad, te enviamos los datos de tu operación. Monto Total del consumo S/ 160.80 Datos\n",
      "###################\n",
      "Your Friday evening trip with Uber\n",
      "Total PEN 8.70 26 January 2024 Thanks for being an Uber One member, José We hope you enjoyed your ride this evening. Total PEN 8.70 You earned PEN 0.90 Uber Cash with Uber One Trip fare PEN 9.50\n",
      "###################\n",
      "Realizaste un consumo con tu Tarjeta de Crédito BCP - Servicio de Notificaciones BCP\n",
      "Hola Jose Enrique, Realizaste un consumo de S/ 7.90 con tu Tarjeta de Crédito BCP en PYU*UBER. Por tu seguridad, te enviamos los datos de tu operación. Monto Total del consumo S/ 7.90 Datos de la\n"
     ]
    }
   ],
   "source": [
    "for message in msg:\n",
    "    message_dict = dict(message)\n",
    "\n",
    "    email_headers = message_dict['payload']['headers']\n",
    "    subject = get_value_for_key(email_headers, 'Subject')\n",
    "\n",
    "    content = message_dict['snippet']\n",
    "    print('###################')\n",
    "    print(subject)\n",
    "    print(content)"
   ]
  },
  {
   "cell_type": "markdown",
   "metadata": {},
   "source": [
    "## 2. Uso de Modelo pre-entrenado HuggingFace"
   ]
  },
  {
   "cell_type": "code",
   "execution_count": 1,
   "metadata": {},
   "outputs": [
    {
     "name": "stderr",
     "output_type": "stream",
     "text": [
      "C:\\Users\\usuario\\AppData\\Local\\Packages\\PythonSoftwareFoundation.Python.3.10_qbz5n2kfra8p0\\LocalCache\\local-packages\\Python310\\site-packages\\tqdm\\auto.py:21: TqdmWarning: IProgress not found. Please update jupyter and ipywidgets. See https://ipywidgets.readthedocs.io/en/stable/user_install.html\n",
      "  from .autonotebook import tqdm as notebook_tqdm\n"
     ]
    },
    {
     "name": "stdout",
     "output_type": "stream",
     "text": [
      "WARNING:tensorflow:From C:\\Users\\usuario\\AppData\\Local\\Packages\\PythonSoftwareFoundation.Python.3.10_qbz5n2kfra8p0\\LocalCache\\local-packages\\Python310\\site-packages\\keras\\src\\losses.py:2976: The name tf.losses.sparse_softmax_cross_entropy is deprecated. Please use tf.compat.v1.losses.sparse_softmax_cross_entropy instead.\n",
      "\n"
     ]
    },
    {
     "name": "stderr",
     "output_type": "stream",
     "text": [
      "config.json: 100%|██████████| 624/624 [00:00<?, ?B/s] \n",
      "model.safetensors: 100%|██████████| 501M/501M [02:08<00:00, 3.91MB/s] \n",
      "Some weights of the model checkpoint at roberta-base-openai-detector were not used when initializing RobertaForSequenceClassification: ['roberta.pooler.dense.bias', 'roberta.pooler.dense.weight']\n",
      "- This IS expected if you are initializing RobertaForSequenceClassification from the checkpoint of a model trained on another task or with another architecture (e.g. initializing a BertForSequenceClassification model from a BertForPreTraining model).\n",
      "- This IS NOT expected if you are initializing RobertaForSequenceClassification from the checkpoint of a model that you expect to be exactly identical (initializing a BertForSequenceClassification model from a BertForSequenceClassification model).\n",
      "vocab.json: 100%|██████████| 899k/899k [00:00<00:00, 1.81MB/s]\n",
      "merges.txt: 100%|██████████| 456k/456k [00:00<00:00, 1.38MB/s]\n",
      "tokenizer.json: 100%|██████████| 1.36M/1.36M [00:00<00:00, 5.57MB/s]\n"
     ]
    },
    {
     "name": "stdout",
     "output_type": "stream",
     "text": [
      "[{'label': 'Real', 'score': 0.8036580085754395}]\n"
     ]
    }
   ],
   "source": [
    "# https://huggingface.co/openai-community/roberta-base-openai-detector\n",
    "from transformers import pipeline\n",
    "pipe = pipeline(\"text-classification\", model=\"roberta-base-openai-detector\")\n",
    "print(pipe(\"Hello world! Is this content AI-generated?\"))"
   ]
  },
  {
   "cell_type": "code",
   "execution_count": null,
   "metadata": {},
   "outputs": [],
   "source": []
  }
 ],
 "metadata": {
  "kernelspec": {
   "display_name": "Python 3",
   "language": "python",
   "name": "python3"
  },
  "language_info": {
   "codemirror_mode": {
    "name": "ipython",
    "version": 3
   },
   "file_extension": ".py",
   "mimetype": "text/x-python",
   "name": "python",
   "nbconvert_exporter": "python",
   "pygments_lexer": "ipython3",
   "version": "3.10.11"
  }
 },
 "nbformat": 4,
 "nbformat_minor": 2
}
